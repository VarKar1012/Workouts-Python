{
 "cells": [
  {
   "cell_type": "code",
   "execution_count": 3,
   "id": "e138d8fd-0e00-4d7a-b084-0dcd4488c024",
   "metadata": {},
   "outputs": [
    {
     "name": "stdout",
     "output_type": "stream",
     "text": [
      "sample function has args: ('hi', 'hello') and kargs {}\n",
      "varna\n"
     ]
    }
   ],
   "source": [
    "def log_arguments(func):\n",
    "    def wraps(*args, **kwargs):\n",
    "        print(f\"{func.__name__} function has args: {args} and kargs {kwargs}\")\n",
    "        result = func()\n",
    "        return result\n",
    "    return wraps\n",
    "\n",
    "@log_arguments\n",
    "def sample():\n",
    "    val = \"varna\"\n",
    "    return val\n",
    "\n",
    "print(sample('hi', 'hello'))"
   ]
  },
  {
   "cell_type": "code",
   "execution_count": 8,
   "id": "e6ff73c5-4452-4e90-bf76-b034e1a5a4ce",
   "metadata": {},
   "outputs": [
    {
     "name": "stdout",
     "output_type": "stream",
     "text": [
      "calling multiply with args: (10, 20) and kwargs: {}\n",
      "multiply, result: 200\n"
     ]
    }
   ],
   "source": [
    "def log_function(func):\n",
    "    def wrapper(*args, **kwargs):\n",
    "        print(f\"calling {func.__name__} with args: {args} and kwargs: {kwargs}\")\n",
    "        out = func(*args, **kwargs)\n",
    "        print(f\"{func.__name__}, result: {out}\")\n",
    "        return out\n",
    "    return wrapper\n",
    "\n",
    "@log_function\n",
    "def multiply(a, b):\n",
    "    return a * b\n",
    "\n",
    "c = multiply(10, 20)"
   ]
  }
 ],
 "metadata": {
  "kernelspec": {
   "display_name": "Python 3 (ipykernel)",
   "language": "python",
   "name": "python3"
  },
  "language_info": {
   "codemirror_mode": {
    "name": "ipython",
    "version": 3
   },
   "file_extension": ".py",
   "mimetype": "text/x-python",
   "name": "python",
   "nbconvert_exporter": "python",
   "pygments_lexer": "ipython3",
   "version": "3.11.9"
  }
 },
 "nbformat": 4,
 "nbformat_minor": 5
}
