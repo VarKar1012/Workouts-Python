{
 "cells": [
  {
   "cell_type": "code",
   "execution_count": 7,
   "id": "a3875e77-c2f5-4624-ac9b-ec805ae246ff",
   "metadata": {},
   "outputs": [
    {
     "name": "stdout",
     "output_type": "stream",
     "text": [
      "Start of opertion: 1724477693.255467\n"
     ]
    },
    {
     "ename": "TypeError",
     "evalue": "can't multiply sequence by non-int of type 'dict'",
     "output_type": "error",
     "traceback": [
      "\u001b[0;31m---------------------------------------------------------------------------\u001b[0m",
      "\u001b[0;31mTypeError\u001b[0m                                 Traceback (most recent call last)",
      "Cell \u001b[0;32mIn[7], line 17\u001b[0m\n\u001b[1;32m     13\u001b[0m \u001b[38;5;129m@exec_time\u001b[39m\n\u001b[1;32m     14\u001b[0m \u001b[38;5;28;01mdef\u001b[39;00m \u001b[38;5;21mmultiply\u001b[39m(a, b):\n\u001b[1;32m     15\u001b[0m     \u001b[38;5;28;01mreturn\u001b[39;00m a \u001b[38;5;241m*\u001b[39m b\n\u001b[0;32m---> 17\u001b[0m result \u001b[38;5;241m=\u001b[39m multiply(\u001b[38;5;241m10\u001b[39m, \u001b[38;5;241m20\u001b[39m)\n",
      "Cell \u001b[0;32mIn[7], line 7\u001b[0m, in \u001b[0;36mexec_time.<locals>.wrapper\u001b[0;34m(*args, **kwargs)\u001b[0m\n\u001b[1;32m      5\u001b[0m t1 \u001b[38;5;241m=\u001b[39m time\u001b[38;5;241m.\u001b[39mtime()\n\u001b[1;32m      6\u001b[0m \u001b[38;5;28mprint\u001b[39m(\u001b[38;5;124m\"\u001b[39m\u001b[38;5;124mStart of opertion:\u001b[39m\u001b[38;5;124m\"\u001b[39m, t1)\n\u001b[0;32m----> 7\u001b[0m out \u001b[38;5;241m=\u001b[39m func(args, kwargs)\n\u001b[1;32m      8\u001b[0m \u001b[38;5;28mprint\u001b[39m(\u001b[38;5;124m\"\u001b[39m\u001b[38;5;124mExecution time took:\u001b[39m\u001b[38;5;124m\"\u001b[39m, time\u001b[38;5;241m.\u001b[39mtime() \u001b[38;5;241m-\u001b[39m t1)\n\u001b[1;32m     10\u001b[0m \u001b[38;5;28;01mreturn\u001b[39;00m out\n",
      "Cell \u001b[0;32mIn[7], line 15\u001b[0m, in \u001b[0;36mmultiply\u001b[0;34m(a, b)\u001b[0m\n\u001b[1;32m     13\u001b[0m \u001b[38;5;129m@exec_time\u001b[39m\n\u001b[1;32m     14\u001b[0m \u001b[38;5;28;01mdef\u001b[39;00m \u001b[38;5;21mmultiply\u001b[39m(a, b):\n\u001b[0;32m---> 15\u001b[0m     \u001b[38;5;28;01mreturn\u001b[39;00m a \u001b[38;5;241m*\u001b[39m b\n",
      "\u001b[0;31mTypeError\u001b[0m: can't multiply sequence by non-int of type 'dict'"
     ]
    }
   ],
   "source": [
    "import time\n",
    "\n",
    "def exec_time(func):\n",
    "    def wrapper(*args, **kwargs):\n",
    "        t1 = time.time()\n",
    "        print(\"Start of opertion:\", t1)\n",
    "        out = func(args, kwargs)\n",
    "        print(\"Execution time took:\", time.time() - t1)\n",
    "        \n",
    "        return out\n",
    "    return wrapper\n",
    "\n",
    "@exec_time\n",
    "def multiply(a, b):\n",
    "    return a * b\n",
    "\n",
    "result = multiply(10, 20)"
   ]
  },
  {
   "cell_type": "code",
   "execution_count": null,
   "id": "0609f48b-cab0-4b7b-8dc0-871f05d7e504",
   "metadata": {},
   "outputs": [],
   "source": [
    "import datetime\n",
    "datetime.__dict__"
   ]
  }
 ],
 "metadata": {
  "kernelspec": {
   "display_name": "Python 3 (ipykernel)",
   "language": "python",
   "name": "python3"
  },
  "language_info": {
   "codemirror_mode": {
    "name": "ipython",
    "version": 3
   },
   "file_extension": ".py",
   "mimetype": "text/x-python",
   "name": "python",
   "nbconvert_exporter": "python",
   "pygments_lexer": "ipython3",
   "version": "3.11.9"
  }
 },
 "nbformat": 4,
 "nbformat_minor": 5
}
