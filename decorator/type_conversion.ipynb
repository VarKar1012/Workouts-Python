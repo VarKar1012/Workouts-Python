{
 "cells": [
  {
   "cell_type": "markdown",
   "id": "6a5e7672-04c7-49f6-a215-5929708e4c92",
   "metadata": {},
   "source": [
    "conversion of result to specified type"
   ]
  },
  {
   "cell_type": "code",
   "execution_count": 8,
   "id": "43776b18-226d-4a8b-9bc5-05bba323f287",
   "metadata": {
    "scrolled": true
   },
   "outputs": [
    {
     "name": "stdout",
     "output_type": "stream",
     "text": [
      "Type before conversion: <class 'float'>\n",
      "Type after conversion: <class 'str'>\n"
     ]
    }
   ],
   "source": [
    "def convert_type(type_specified):\n",
    "    def decorator(func):\n",
    "        def wrapper(*args, **kwargs):\n",
    "            out = func(*args, **kwargs)\n",
    "            print(\"Type before conversion:\", type(out))\n",
    "            \n",
    "            out = type_specified(out)\n",
    "            print(\"Type after conversion:\", type(out))\n",
    "            return out\n",
    "        return wrapper\n",
    "    return decorator\n",
    "\n",
    "@convert_type(str)\n",
    "def divide(a, b):\n",
    "    return a/b\n",
    "\n",
    "result = divide(150, 20)"
   ]
  },
  {
   "cell_type": "markdown",
   "id": "3a555f45-25c9-4c2d-b3df-5d6c32ebb1b3",
   "metadata": {},
   "source": [
    "conversion of type for another operation"
   ]
  },
  {
   "cell_type": "code",
   "execution_count": 13,
   "id": "e6ef6f69-5d49-4825-97c3-599afd30cf82",
   "metadata": {},
   "outputs": [
    {
     "name": "stdout",
     "output_type": "stream",
     "text": [
      "type of c: <class 'str'>\n",
      "output is: result 7.5\n"
     ]
    }
   ],
   "source": [
    "def conversion(type_specified):\n",
    "    def decorator(func):\n",
    "        def wrapper(*args, **kwargs):\n",
    "            out = func(*args, **kwargs)\n",
    "            return type_specified(out)\n",
    "        return wrapper\n",
    "    return decorator\n",
    "\n",
    "@conversion(str)\n",
    "def divide(a, b):\n",
    "    return a/b\n",
    "\n",
    "def concatenate(a, b):\n",
    "    return a + ' ' + b\n",
    "\n",
    "c = divide(150, 20)\n",
    "print(\"type of c:\", type(c))\n",
    "\n",
    "result = concatenate(\"result\", c)\n",
    "print(\"output is:\", result)"
   ]
  },
  {
   "cell_type": "code",
   "execution_count": null,
   "id": "e2544f72-cfca-48db-a70b-b0cd3c037d6e",
   "metadata": {},
   "outputs": [],
   "source": []
  }
 ],
 "metadata": {
  "kernelspec": {
   "display_name": "Python 3 (ipykernel)",
   "language": "python",
   "name": "python3"
  },
  "language_info": {
   "codemirror_mode": {
    "name": "ipython",
    "version": 3
   },
   "file_extension": ".py",
   "mimetype": "text/x-python",
   "name": "python",
   "nbconvert_exporter": "python",
   "pygments_lexer": "ipython3",
   "version": "3.11.9"
  }
 },
 "nbformat": 4,
 "nbformat_minor": 5
}
